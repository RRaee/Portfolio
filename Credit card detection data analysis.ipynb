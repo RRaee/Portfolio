{
 "cells": [
  {
   "cell_type": "code",
   "execution_count": 1,
   "metadata": {},
   "outputs": [
    {
     "data": {
      "text/plain": [
       "(186948, 31)"
      ]
     },
     "execution_count": 1,
     "metadata": {},
     "output_type": "execute_result"
    }
   ],
   "source": [
    "import pandas as pd\n",
    "Credit_Card = pd.read_csv(\"credit_card_detection.csv\")\n",
    "Credit_Card.shape"
   ]
  },
  {
   "cell_type": "code",
   "execution_count": 2,
   "metadata": {},
   "outputs": [
    {
     "data": {
      "text/plain": [
       "Index(['Time', 'V1', 'V2', 'V3', 'V4', 'V5', 'V6', 'V7', 'V8', 'V9', 'V10',\n",
       "       'V11', 'V12', 'V13', 'V14', 'V15', 'V16', 'V17', 'V18', 'V19', 'V20',\n",
       "       'V21', 'V22', 'V23', 'V24', 'V25', 'V26', 'V27', 'V28', 'Amount',\n",
       "       'Class'],\n",
       "      dtype='object')"
      ]
     },
     "execution_count": 2,
     "metadata": {},
     "output_type": "execute_result"
    }
   ],
   "source": [
    "Credit_Card.columns"
   ]
  },
  {
   "cell_type": "code",
   "execution_count": 3,
   "metadata": {},
   "outputs": [
    {
     "data": {
      "text/plain": [
       "0.0    186579\n",
       "1.0       368\n",
       "Name: Class, dtype: int64"
      ]
     },
     "execution_count": 3,
     "metadata": {},
     "output_type": "execute_result"
    }
   ],
   "source": [
    "Credit_Card.Class.value_counts()"
   ]
  },
  {
   "cell_type": "code",
   "execution_count": 4,
   "metadata": {},
   "outputs": [
    {
     "name": "stderr",
     "output_type": "stream",
     "text": [
      "C:\\Users\\olatu\\anaconda3\\lib\\site-packages\\seaborn\\_decorators.py:36: FutureWarning: Pass the following variable as a keyword arg: x. From version 0.12, the only valid positional argument will be `data`, and passing other arguments without an explicit keyword will result in an error or misinterpretation.\n",
      "  warnings.warn(\n"
     ]
    },
    {
     "data": {
      "text/plain": [
       "Text(0.5, 1.0, 'Class Distribution \\n(0: No Fraud || 1: Fraud)')"
      ]
     },
     "execution_count": 4,
     "metadata": {},
     "output_type": "execute_result"
    },
    {
     "data": {
      "image/png": "[encoded data removed]",
      "text/plain": [
       "<Figure size 432x288 with 1 Axes>"
      ]
     },
     "metadata": {
      "needs_background": "light"
     },
     "output_type": "display_data"
    }
   ],
   "source": [
    "# Visually seeing how imbalanced the dataset is\n",
    "import seaborn as sns\n",
    "import matplotlib.pyplot as plt\n",
    "Imbalanced_data = sns.countplot('Class',data=Credit_Card)\n",
    "plt.title('Class Distribution \\n(0: No Fraud || 1: Fraud)', fontsize=14)"
   ]
  },
  {
   "cell_type": "code",
   "execution_count": 5,
   "metadata": {},
   "outputs": [
    {
     "data": {
      "text/plain": [
       "1"
      ]
     },
     "execution_count": 5,
     "metadata": {},
     "output_type": "execute_result"
    }
   ],
   "source": [
    "# Checking for null values in the dataset\n",
    "Credit_Card.isnull().sum().max()\n"
   ]
  },
  {
   "cell_type": "code",
   "execution_count": 6,
   "metadata": {},
   "outputs": [
    {
     "data": {
      "text/html": [
       "<div>\n",
       "<style scoped>\n",
       "    .dataframe tbody tr th:only-of-type {\n",
       "        vertical-align: middle;\n",
       "    }\n",
       "\n",
       "    .dataframe tbody tr th {\n",
       "        vertical-align: top;\n",
       "    }\n",
       "\n",
       "    .dataframe thead th {\n",
       "        text-align: right;\n",
       "    }\n",
       "</style>\n",
       "<table border=\"1\" class=\"dataframe\">\n",
       "  <thead>\n",
       "    <tr style=\"text-align: right;\">\n",
       "      <th></th>\n",
       "      <th>Amount</th>\n",
       "      <th>Class</th>\n",
       "      <th>Time</th>\n",
       "      <th>V1</th>\n",
       "      <th>V10</th>\n",
       "      <th>V11</th>\n",
       "      <th>V12</th>\n",
       "      <th>V13</th>\n",
       "      <th>V14</th>\n",
       "      <th>V15</th>\n",
       "      <th>...</th>\n",
       "      <th>V26</th>\n",
       "      <th>V27</th>\n",
       "      <th>V28</th>\n",
       "      <th>V3</th>\n",
       "      <th>V4</th>\n",
       "      <th>V5</th>\n",
       "      <th>V6</th>\n",
       "      <th>V7</th>\n",
       "      <th>V8</th>\n",
       "      <th>V9</th>\n",
       "    </tr>\n",
       "  </thead>\n",
       "  <tbody>\n",
       "    <tr>\n",
       "      <th>0</th>\n",
       "      <td>149.62</td>\n",
       "      <td>0.0</td>\n",
       "      <td>0.0</td>\n",
       "      <td>-1.359807</td>\n",
       "      <td>0.090794</td>\n",
       "      <td>-0.551600</td>\n",
       "      <td>-0.617801</td>\n",
       "      <td>-0.991390</td>\n",
       "      <td>-0.311169</td>\n",
       "      <td>1.468177</td>\n",
       "      <td>...</td>\n",
       "      <td>-0.189115</td>\n",
       "      <td>0.133558</td>\n",
       "      <td>-0.021053</td>\n",
       "      <td>2.536347</td>\n",
       "      <td>1.378155</td>\n",
       "      <td>-0.338321</td>\n",
       "      <td>0.462388</td>\n",
       "      <td>0.239599</td>\n",
       "      <td>0.098698</td>\n",
       "      <td>0.363787</td>\n",
       "    </tr>\n",
       "    <tr>\n",
       "      <th>1</th>\n",
       "      <td>2.69</td>\n",
       "      <td>0.0</td>\n",
       "      <td>0.0</td>\n",
       "      <td>1.191857</td>\n",
       "      <td>-0.166974</td>\n",
       "      <td>1.612727</td>\n",
       "      <td>1.065235</td>\n",
       "      <td>0.489095</td>\n",
       "      <td>-0.143772</td>\n",
       "      <td>0.635558</td>\n",
       "      <td>...</td>\n",
       "      <td>0.125895</td>\n",
       "      <td>-0.008983</td>\n",
       "      <td>0.014724</td>\n",
       "      <td>0.166480</td>\n",
       "      <td>0.448154</td>\n",
       "      <td>0.060018</td>\n",
       "      <td>-0.082361</td>\n",
       "      <td>-0.078803</td>\n",
       "      <td>0.085102</td>\n",
       "      <td>-0.255425</td>\n",
       "    </tr>\n",
       "    <tr>\n",
       "      <th>2</th>\n",
       "      <td>378.66</td>\n",
       "      <td>0.0</td>\n",
       "      <td>1.0</td>\n",
       "      <td>-1.358354</td>\n",
       "      <td>0.207643</td>\n",
       "      <td>0.624501</td>\n",
       "      <td>0.066084</td>\n",
       "      <td>0.717293</td>\n",
       "      <td>-0.165946</td>\n",
       "      <td>2.345865</td>\n",
       "      <td>...</td>\n",
       "      <td>-0.139097</td>\n",
       "      <td>-0.055353</td>\n",
       "      <td>-0.059752</td>\n",
       "      <td>1.773209</td>\n",
       "      <td>0.379780</td>\n",
       "      <td>-0.503198</td>\n",
       "      <td>1.800499</td>\n",
       "      <td>0.791461</td>\n",
       "      <td>0.247676</td>\n",
       "      <td>-1.514654</td>\n",
       "    </tr>\n",
       "  </tbody>\n",
       "</table>\n",
       "<p>3 rows × 31 columns</p>\n",
       "</div>"
      ],
      "text/plain": [
       "   Amount  Class  Time        V1       V10       V11       V12       V13  \\\n",
       "0  149.62    0.0   0.0 -1.359807  0.090794 -0.551600 -0.617801 -0.991390   \n",
       "1    2.69    0.0   0.0  1.191857 -0.166974  1.612727  1.065235  0.489095   \n",
       "2  378.66    0.0   1.0 -1.358354  0.207643  0.624501  0.066084  0.717293   \n",
       "\n",
       "        V14       V15  ...       V26       V27       V28        V3        V4  \\\n",
       "0 -0.311169  1.468177  ... -0.189115  0.133558 -0.021053  2.536347  1.378155   \n",
       "1 -0.143772  0.635558  ...  0.125895 -0.008983  0.014724  0.166480  0.448154   \n",
       "2 -0.165946  2.345865  ... -0.139097 -0.055353 -0.059752  1.773209  0.379780   \n",
       "\n",
       "         V5        V6        V7        V8        V9  \n",
       "0 -0.338321  0.462388  0.239599  0.098698  0.363787  \n",
       "1  0.060018 -0.082361 -0.078803  0.085102 -0.255425  \n",
       "2 -0.503198  1.800499  0.791461  0.247676 -1.514654  \n",
       "\n",
       "[3 rows x 31 columns]"
      ]
     },
     "execution_count": 6,
     "metadata": {},
     "output_type": "execute_result"
    }
   ],
   "source": [
    "# Observing some of the values for all the features in the dataset\n",
    "Credit_Card.sort_index(axis=1).head(3)"
   ]
  },
  {
   "cell_type": "code",
   "execution_count": 7,
   "metadata": {},
   "outputs": [
    {
     "name": "stdout",
     "output_type": "stream",
     "text": [
      "<class 'pandas.core.frame.DataFrame'>\n",
      "RangeIndex: 186948 entries, 0 to 186947\n",
      "Data columns (total 31 columns):\n",
      " #   Column  Non-Null Count   Dtype  \n",
      "---  ------  --------------   -----  \n",
      " 0   Amount  186947 non-null  float64\n",
      " 1   Class   186947 non-null  float64\n",
      " 2   Time    186948 non-null  float64\n",
      " 3   V1      186948 non-null  float64\n",
      " 4   V10     186948 non-null  float64\n",
      " 5   V11     186948 non-null  float64\n",
      " 6   V12     186948 non-null  float64\n",
      " 7   V13     186948 non-null  float64\n",
      " 8   V14     186948 non-null  float64\n",
      " 9   V15     186948 non-null  float64\n",
      " 10  V16     186948 non-null  float64\n",
      " 11  V17     186948 non-null  float64\n",
      " 12  V18     186948 non-null  float64\n",
      " 13  V19     186948 non-null  float64\n",
      " 14  V2      186948 non-null  float64\n",
      " 15  V20     186948 non-null  float64\n",
      " 16  V21     186948 non-null  float64\n",
      " 17  V22     186948 non-null  float64\n",
      " 18  V23     186948 non-null  float64\n",
      " 19  V24     186947 non-null  float64\n",
      " 20  V25     186947 non-null  float64\n",
      " 21  V26     186947 non-null  float64\n",
      " 22  V27     186947 non-null  float64\n",
      " 23  V28     186947 non-null  float64\n",
      " 24  V3      186948 non-null  float64\n",
      " 25  V4      186948 non-null  float64\n",
      " 26  V5      186948 non-null  float64\n",
      " 27  V6      186948 non-null  float64\n",
      " 28  V7      186948 non-null  float64\n",
      " 29  V8      186948 non-null  float64\n",
      " 30  V9      186948 non-null  float64\n",
      "dtypes: float64(31)\n",
      "memory usage: 44.2 MB\n"
     ]
    }
   ],
   "source": [
    "# Observing all the information about the dataset\n",
    "Credit_Card.sort_index(axis=1).info()"
   ]
  },
  {
   "cell_type": "code",
   "execution_count": 8,
   "metadata": {},
   "outputs": [
    {
     "data": {
      "text/plain": [
       "<AxesSubplot:>"
      ]
     },
     "execution_count": 8,
     "metadata": {},
     "output_type": "execute_result"
    },
    {
     "data": {
      "image/png": "[encoded data removed]",
      "text/plain": [
       "<Figure size 864x576 with 2 Axes>"
      ]
     },
     "metadata": {
      "needs_background": "light"
     },
     "output_type": "display_data"
    }
   ],
   "source": [
    "# Correlation of the dataset\n",
    "plt.figure(figsize=(12,8))\n",
    "sns.heatmap(Credit_Card.corr(), cmap='coolwarm_r',annot=False)"
   ]
  },
  {
   "cell_type": "code",
   "execution_count": 9,
   "metadata": {},
   "outputs": [
    {
     "name": "stdout",
     "output_type": "stream",
     "text": [
      "Time       0.000000\n",
      "V1       -56.407510\n",
      "V2       -72.715728\n",
      "V3       -33.680984\n",
      "V4        -5.683171\n",
      "V5       -42.147898\n",
      "V6       -26.160506\n",
      "V7       -43.557242\n",
      "V8       -73.216718\n",
      "V9       -13.434066\n",
      "V10      -24.588262\n",
      "V11       -4.797473\n",
      "V12      -18.683715\n",
      "V13       -5.791881\n",
      "V14      -19.214325\n",
      "V15       -4.498945\n",
      "V16      -14.129855\n",
      "V17      -25.162799\n",
      "V18       -9.498746\n",
      "V19       -7.213527\n",
      "V20      -22.838548\n",
      "V21      -34.830382\n",
      "V22      -10.933144\n",
      "V23      -44.807735\n",
      "V24       -2.836627\n",
      "V25      -10.295397\n",
      "V26       -2.604551\n",
      "V27      -22.565679\n",
      "V28      -11.710896\n",
      "Amount     0.000000\n",
      "Class      0.000000\n",
      "dtype: float64\n",
      "Time      127323.000000\n",
      "V1             2.439207\n",
      "V2            22.057729\n",
      "V3             9.382558\n",
      "V4            16.875344\n",
      "V5            34.801666\n",
      "V6            22.529298\n",
      "V7            36.677268\n",
      "V8            20.007208\n",
      "V9            15.594995\n",
      "V10           23.745136\n",
      "V11           12.018913\n",
      "V12            7.848392\n",
      "V13            4.569009\n",
      "V14           10.526766\n",
      "V15            5.784514\n",
      "V16            6.098529\n",
      "V17            9.253526\n",
      "V18            5.041069\n",
      "V19            5.228342\n",
      "V20           39.420904\n",
      "V21           27.202839\n",
      "V22           10.503090\n",
      "V23           19.002942\n",
      "V24            4.022866\n",
      "V25            7.519589\n",
      "V26            3.517346\n",
      "V27           12.152401\n",
      "V28           33.847808\n",
      "Amount     19656.530000\n",
      "Class          1.000000\n",
      "dtype: float64\n"
     ]
    }
   ],
   "source": [
    "# Checking the range for all the features\n",
    "C_min = Credit_Card.min()\n",
    "print(C_min)\n",
    "C_max = Credit_Card.max()\n",
    "print(C_max)"
   ]
  },
  {
   "cell_type": "code",
   "execution_count": 10,
   "metadata": {},
   "outputs": [
    {
     "name": "stderr",
     "output_type": "stream",
     "text": [
      "C:\\Users\\olatu\\anaconda3\\lib\\site-packages\\seaborn\\distributions.py:2551: FutureWarning: `distplot` is a deprecated function and will be removed in a future version. Please adapt your code to use either `displot` (a figure-level function with similar flexibility) or `histplot` (an axes-level function for histograms).\n",
      "  warnings.warn(msg, FutureWarning)\n"
     ]
    },
    {
     "data": {
      "text/plain": [
       "<AxesSubplot:xlabel='Time'>"
      ]
     },
     "execution_count": 10,
     "metadata": {},
     "output_type": "execute_result"
    },
    {
     "data": {
      "image/png": "[encoded data removed]",
      "text/plain": [
       "<Figure size 432x288 with 1 Axes>"
      ]
     },
     "metadata": {
      "needs_background": "light"
     },
     "output_type": "display_data"
    }
   ],
   "source": [
    "# Checking the ditribution of the Time feature\n",
    "sns.distplot(Credit_Card['Time'], kde=False)"
   ]
  },
  {
   "cell_type": "code",
   "execution_count": 11,
   "metadata": {},
   "outputs": [
    {
     "data": {
      "text/plain": [
       "<AxesSubplot:xlabel='Time', ylabel='Density'>"
      ]
     },
     "execution_count": 11,
     "metadata": {},
     "output_type": "execute_result"
    },
    {
     "data": {
      "image/png": "[encoded data removed]",
      "text/plain": [
       "<Figure size 432x288 with 1 Axes>"
      ]
     },
     "metadata": {
      "needs_background": "light"
     },
     "output_type": "display_data"
    }
   ],
   "source": [
    "# Confirming the structure of KDE for Time feature\n",
    "sns.kdeplot(Credit_Card['Time'])"
   ]
  },
  {
   "cell_type": "code",
   "execution_count": 12,
   "metadata": {},
   "outputs": [
    {
     "name": "stderr",
     "output_type": "stream",
     "text": [
      "C:\\Users\\olatu\\anaconda3\\lib\\site-packages\\seaborn\\distributions.py:2551: FutureWarning: `distplot` is a deprecated function and will be removed in a future version. Please adapt your code to use either `displot` (a figure-level function with similar flexibility) or `histplot` (an axes-level function for histograms).\n",
      "  warnings.warn(msg, FutureWarning)\n"
     ]
    },
    {
     "data": {
      "text/plain": [
       "<AxesSubplot:xlabel='Amount'>"
      ]
     },
     "execution_count": 12,
     "metadata": {},
     "output_type": "execute_result"
    },
    {
     "data": {
      "image/png": "[encoded data removed]",
      "text/plain": [
       "<Figure size 432x288 with 1 Axes>"
      ]
     },
     "metadata": {
      "needs_background": "light"
     },
     "output_type": "display_data"
    }
   ],
   "source": [
    "# Seeing the distribution for the Amount feature\n",
    "sns.distplot(Credit_Card['Amount'], kde=False)"
   ]
  },
  {
   "cell_type": "code",
   "execution_count": 13,
   "metadata": {},
   "outputs": [
    {
     "data": {
      "text/plain": [
       "<AxesSubplot:xlabel='Amount', ylabel='Density'>"
      ]
     },
     "execution_count": 13,
     "metadata": {},
     "output_type": "execute_result"
    },
    {
     "data": {
      "image/png": "[encoded data removed]",
      "text/plain": [
       "<Figure size 432x288 with 1 Axes>"
      ]
     },
     "metadata": {
      "needs_background": "light"
     },
     "output_type": "display_data"
    }
   ],
   "source": [
    "# Seeing the KDE plot for the weight feature\n",
    "sns.kdeplot(Credit_Card['Amount'])"
   ]
  },
  {
   "cell_type": "code",
   "execution_count": 14,
   "metadata": {},
   "outputs": [
    {
     "name": "stderr",
     "output_type": "stream",
     "text": [
      "C:\\Users\\olatu\\anaconda3\\lib\\site-packages\\seaborn\\distributions.py:2551: FutureWarning: `distplot` is a deprecated function and will be removed in a future version. Please adapt your code to use either `displot` (a figure-level function with similar flexibility) or `histplot` (an axes-level function for histograms).\n",
      "  warnings.warn(msg, FutureWarning)\n",
      "C:\\Users\\olatu\\anaconda3\\lib\\site-packages\\seaborn\\distributions.py:2551: FutureWarning: `distplot` is a deprecated function and will be removed in a future version. Please adapt your code to use either `displot` (a figure-level function with similar flexibility) or `histplot` (an axes-level function for histograms).\n",
      "  warnings.warn(msg, FutureWarning)\n"
     ]
    },
    {
     "data": {
      "image/png": "[encoded data removed]",
      "text/plain": [
       "<Figure size 1008x288 with 2 Axes>"
      ]
     },
     "metadata": {
      "needs_background": "light"
     },
     "output_type": "display_data"
    }
   ],
   "source": [
    "# Checking if there are any visual link/similarity among the distributions\n",
    "fig, ax = plt.subplots(1,2, figsize = (14,4))\n",
    "sns.distplot(Credit_Card['Amount'], ax=ax[0], color='r')\n",
    "ax[0].set_title('The distribution of the amount of transaction', fontsize=14)\n",
    "\n",
    "sns.distplot(Credit_Card['Time'], ax=ax[1], color='b')\n",
    "ax[1].set_title('The distribution of the time for transaction', fontsize=14)\n",
    "\n",
    "plt.show()\n"
   ]
  },
  {
   "cell_type": "code",
   "execution_count": 15,
   "metadata": {},
   "outputs": [
    {
     "data": {
      "text/html": [
       "<div>\n",
       "<style scoped>\n",
       "    .dataframe tbody tr th:only-of-type {\n",
       "        vertical-align: middle;\n",
       "    }\n",
       "\n",
       "    .dataframe tbody tr th {\n",
       "        vertical-align: top;\n",
       "    }\n",
       "\n",
       "    .dataframe thead th {\n",
       "        text-align: right;\n",
       "    }\n",
       "</style>\n",
       "<table border=\"1\" class=\"dataframe\">\n",
       "  <thead>\n",
       "    <tr style=\"text-align: right;\">\n",
       "      <th></th>\n",
       "      <th>Time</th>\n",
       "      <th>Amount</th>\n",
       "    </tr>\n",
       "  </thead>\n",
       "  <tbody>\n",
       "    <tr>\n",
       "      <th>0</th>\n",
       "      <td>0.0</td>\n",
       "      <td>149.62</td>\n",
       "    </tr>\n",
       "    <tr>\n",
       "      <th>1</th>\n",
       "      <td>0.0</td>\n",
       "      <td>2.69</td>\n",
       "    </tr>\n",
       "    <tr>\n",
       "      <th>2</th>\n",
       "      <td>1.0</td>\n",
       "      <td>378.66</td>\n",
       "    </tr>\n",
       "    <tr>\n",
       "      <th>3</th>\n",
       "      <td>1.0</td>\n",
       "      <td>123.50</td>\n",
       "    </tr>\n",
       "    <tr>\n",
       "      <th>4</th>\n",
       "      <td>2.0</td>\n",
       "      <td>69.99</td>\n",
       "    </tr>\n",
       "    <tr>\n",
       "      <th>...</th>\n",
       "      <td>...</td>\n",
       "      <td>...</td>\n",
       "    </tr>\n",
       "    <tr>\n",
       "      <th>186943</th>\n",
       "      <td>127322.0</td>\n",
       "      <td>1.89</td>\n",
       "    </tr>\n",
       "    <tr>\n",
       "      <th>186944</th>\n",
       "      <td>127322.0</td>\n",
       "      <td>100.00</td>\n",
       "    </tr>\n",
       "    <tr>\n",
       "      <th>186945</th>\n",
       "      <td>127323.0</td>\n",
       "      <td>88.75</td>\n",
       "    </tr>\n",
       "    <tr>\n",
       "      <th>186946</th>\n",
       "      <td>127323.0</td>\n",
       "      <td>111.88</td>\n",
       "    </tr>\n",
       "    <tr>\n",
       "      <th>186947</th>\n",
       "      <td>127323.0</td>\n",
       "      <td>NaN</td>\n",
       "    </tr>\n",
       "  </tbody>\n",
       "</table>\n",
       "<p>183199 rows × 2 columns</p>\n",
       "</div>"
      ],
      "text/plain": [
       "            Time  Amount\n",
       "0            0.0  149.62\n",
       "1            0.0    2.69\n",
       "2            1.0  378.66\n",
       "3            1.0  123.50\n",
       "4            2.0   69.99\n",
       "...          ...     ...\n",
       "186943  127322.0    1.89\n",
       "186944  127322.0  100.00\n",
       "186945  127323.0   88.75\n",
       "186946  127323.0  111.88\n",
       "186947  127323.0     NaN\n",
       "\n",
       "[183199 rows x 2 columns]"
      ]
     },
     "execution_count": 15,
     "metadata": {},
     "output_type": "execute_result"
    }
   ],
   "source": [
    "# Grouping the features time and amount together\n",
    "Credit_Card[['Time','Amount']].groupby(['Time']).head()"
   ]
  },
  {
   "cell_type": "code",
   "execution_count": 16,
   "metadata": {},
   "outputs": [
    {
     "data": {
      "text/plain": [
       "<AxesSubplot:xlabel='Time'>"
      ]
     },
     "execution_count": 16,
     "metadata": {},
     "output_type": "execute_result"
    },
    {
     "data": {
      "image/png": "[encoded data removed]",
      "text/plain": [
       "<Figure size 432x288 with 1 Axes>"
      ]
     },
     "metadata": {
      "needs_background": "light"
     },
     "output_type": "display_data"
    }
   ],
   "source": [
    "# Plotting a bar chart grouping Time and Amount feature together\n",
    "Credit_Card[['Time','Amount']].groupby(['Time']).sum().plot()\n"
   ]
  },
  {
   "cell_type": "code",
   "execution_count": 17,
   "metadata": {},
   "outputs": [
    {
     "name": "stderr",
     "output_type": "stream",
     "text": [
      "C:\\Users\\olatu\\anaconda3\\lib\\site-packages\\seaborn\\_decorators.py:36: FutureWarning: Pass the following variables as keyword args: x, y. From version 0.12, the only valid positional argument will be `data`, and passing other arguments without an explicit keyword will result in an error or misinterpretation.\n",
      "  warnings.warn(\n"
     ]
    },
    {
     "data": {
      "text/plain": [
       "<AxesSubplot:xlabel='Time', ylabel='Amount'>"
      ]
     },
     "execution_count": 17,
     "metadata": {},
     "output_type": "execute_result"
    },
    {
     "data": {
      "image/png": "[encoded data removed]",
      "text/plain": [
       "<Figure size 432x288 with 1 Axes>"
      ]
     },
     "metadata": {
      "needs_background": "light"
     },
     "output_type": "display_data"
    }
   ],
   "source": [
    "# Plotting a scatter plot for Time against Amount features\n",
    "sns.scatterplot('Time','Amount', data=Credit_Card, hue='Class', size_order=[1,0], size='Class')\n"
   ]
  },
  {
   "cell_type": "code",
   "execution_count": 18,
   "metadata": {},
   "outputs": [
    {
     "name": "stdout",
     "output_type": "stream",
     "text": [
      "0.0\n",
      "19656.53\n"
     ]
    }
   ],
   "source": [
    "# Finding the range of the fraudulent transaction amount\n",
    "minAmount = Credit_Card.Amount.min()\n",
    "print(minAmount)\n",
    "maxAmount = Credit_Card.Amount.max()\n",
    "print(maxAmount)"
   ]
  },
  {
   "cell_type": "code",
   "execution_count": 19,
   "metadata": {},
   "outputs": [
    {
     "data": {
      "text/plain": [
       "(1282, 31)"
      ]
     },
     "execution_count": 19,
     "metadata": {},
     "output_type": "execute_result"
    }
   ],
   "source": [
    "# The total amount of records whose amount value is Zero\n",
    "Credit_Card[Credit_Card[\"Amount\"]==0].shape"
   ]
  },
  {
   "cell_type": "code",
   "execution_count": 20,
   "metadata": {},
   "outputs": [
    {
     "data": {
      "text/plain": [
       "0.0    1265\n",
       "1.0      17\n",
       "Name: Class, dtype: int64"
      ]
     },
     "execution_count": 20,
     "metadata": {},
     "output_type": "execute_result"
    }
   ],
   "source": [
    "# Observing how much of each class is equal to zero\n",
    "Credit_Card[Credit_Card[\"Amount\"]==0][\"Class\"].value_counts()"
   ]
  },
  {
   "cell_type": "code",
   "execution_count": 21,
   "metadata": {},
   "outputs": [
    {
     "data": {
      "text/plain": [
       "((368, 31), (186579, 31))"
      ]
     },
     "execution_count": 21,
     "metadata": {},
     "output_type": "execute_result"
    }
   ],
   "source": [
    "# Splitting the dataset into two different data frames based on \"Class\"\n",
    "Fraud_Credit = Credit_Card[Credit_Card['Class']==1]\n",
    "NonFraud_Credit = Credit_Card[Credit_Card['Class']==0]\n",
    "\n",
    "(Fraud_Credit.shape, NonFraud_Credit.shape)"
   ]
  },
  {
   "cell_type": "code",
   "execution_count": 22,
   "metadata": {},
   "outputs": [
    {
     "name": "stderr",
     "output_type": "stream",
     "text": [
      "C:\\Users\\olatu\\anaconda3\\lib\\site-packages\\seaborn\\distributions.py:2551: FutureWarning: `distplot` is a deprecated function and will be removed in a future version. Please adapt your code to use either `displot` (a figure-level function with similar flexibility) or `histplot` (an axes-level function for histograms).\n",
      "  warnings.warn(msg, FutureWarning)\n"
     ]
    },
    {
     "data": {
      "image/png": "[encoded data removed]",
      "text/plain": [
       "<Figure size 1008x288 with 2 Axes>"
      ]
     },
     "metadata": {
      "needs_background": "light"
     },
     "output_type": "display_data"
    }
   ],
   "source": [
    "# Frequency distribution for the Amount feature for fraudulent and Non-fraudulent class\n",
    "fig, ax = plt.subplots(1,2, figsize=(14,4))\n",
    "\n",
    "sns.distplot(NonFraud_Credit['Amount'], kde=False, ax=ax[0], color='r')\n",
    "ax[0].set_title('Non-Fraudulent: Transaction Amount', fontsize=14)\n",
    "\n",
    "sns.distplot(Fraud_Credit['Amount'], kde=False, ax=ax[1], color='b')\n",
    "ax[1].set_title('Fraudulent: Transaction Amount', fontsize=14)\n",
    "\n",
    "plt.show()"
   ]
  },
  {
   "cell_type": "code",
   "execution_count": 23,
   "metadata": {},
   "outputs": [
    {
     "data": {
      "image/png": "[encoded data removed]",
      "text/plain": [
       "<Figure size 1008x288 with 2 Axes>"
      ]
     },
     "metadata": {
      "needs_background": "light"
     },
     "output_type": "display_data"
    }
   ],
   "source": [
    "# KDE  for the feature 'Amount' for the Fraudulent and Non-Fraudulent Class\n",
    "fig, ax = plt.subplots(1,2, figsize=(14,4))\n",
    "sns.kdeplot(NonFraud_Credit['Amount'], ax=ax[0], color='r')\n",
    "ax[0].set_title('Non-Fraudulent: KDE Transaction Amount', fontsize=14)\n",
    "\n",
    "sns.kdeplot(Fraud_Credit['Amount'], ax=ax[1], color='b')\n",
    "ax[1].set_title('Fraudulent: KDE Transaction Amount', fontsize=14)\n",
    "\n",
    "plt.show()\n"
   ]
  },
  {
   "cell_type": "code",
   "execution_count": 24,
   "metadata": {},
   "outputs": [
    {
     "name": "stderr",
     "output_type": "stream",
     "text": [
      "C:\\Users\\olatu\\anaconda3\\lib\\site-packages\\seaborn\\distributions.py:2551: FutureWarning: `distplot` is a deprecated function and will be removed in a future version. Please adapt your code to use either `displot` (a figure-level function with similar flexibility) or `histplot` (an axes-level function for histograms).\n",
      "  warnings.warn(msg, FutureWarning)\n"
     ]
    },
    {
     "data": {
      "image/png": "[encoded data removed]",
      "text/plain": [
       "<Figure size 1008x288 with 2 Axes>"
      ]
     },
     "metadata": {
      "needs_background": "light"
     },
     "output_type": "display_data"
    }
   ],
   "source": [
    "# Frequency distribution of the 'Time' feature for the Fraudulent and Non-Fraudulent Class\n",
    "fig, ax = plt.subplots(1,2, figsize=(14,4))\n",
    "sns.distplot(NonFraud_Credit['Time'], kde=False, ax=ax[0], color='r')\n",
    "ax[0].set_title('Non-Fraudulent: Time of transaction', fontsize=14)\n",
    "\n",
    "sns.distplot(Fraud_Credit['Time'], kde=False, ax=ax[1], color='b')\n",
    "ax[1].set_title('Fraudulent: Time of transaction', fontsize=14)\n",
    "\n",
    "plt.show()"
   ]
  },
  {
   "cell_type": "code",
   "execution_count": 25,
   "metadata": {},
   "outputs": [
    {
     "data": {
      "image/png": "[encoded data removed]",
      "text/plain": [
       "<Figure size 1008x288 with 2 Axes>"
      ]
     },
     "metadata": {
      "needs_background": "light"
     },
     "output_type": "display_data"
    }
   ],
   "source": [
    "# KDE  for the feature 'Amount' for the Fraudulent and Non-Fraudulent Class\n",
    "fig, ax = plt.subplots(1,2, figsize=(14,4))\n",
    "sns.kdeplot(NonFraud_Credit['Time'], ax=ax[0], color='r')\n",
    "ax[0].set_title('Non-Fraudulent: Time of Transaction (KDE)', fontsize=14)\n",
    "\n",
    "sns.kdeplot(Fraud_Credit['Time'], ax=ax[1], color='b')\n",
    "ax[1].set_title('Fraudulent: Time of Transaction (KDE)', fontsize=14)\n",
    "\n",
    "plt.show()"
   ]
  },
  {
   "cell_type": "code",
   "execution_count": 26,
   "metadata": {},
   "outputs": [
    {
     "data": {
      "text/plain": [
       "<AxesSubplot:xlabel='Time'>"
      ]
     },
     "execution_count": 26,
     "metadata": {},
     "output_type": "execute_result"
    },
    {
     "data": {
      "image/png": "[encoded data removed]",
      "text/plain": [
       "<Figure size 432x288 with 1 Axes>"
      ]
     },
     "metadata": {
      "needs_background": "light"
     },
     "output_type": "display_data"
    }
   ],
   "source": [
    "# Bar plot for the feature 'Amount' against 'Time' for Non- Fraudulent dataset\n",
    "NonFraud_Credit[['Time', 'Amount']].groupby(['Time']).sum().plot()"
   ]
  },
  {
   "cell_type": "code",
   "execution_count": 27,
   "metadata": {},
   "outputs": [
    {
     "data": {
      "text/plain": [
       "<AxesSubplot:xlabel='Time'>"
      ]
     },
     "execution_count": 27,
     "metadata": {},
     "output_type": "execute_result"
    },
    {
     "data": {
      "image/png": "[encoded data removed]",
      "text/plain": [
       "<Figure size 432x288 with 1 Axes>"
      ]
     },
     "metadata": {
      "needs_background": "light"
     },
     "output_type": "display_data"
    }
   ],
   "source": [
    "# Bar plot for the feature 'Amount' against 'Time' for Fraudulent dataset\n",
    "Fraud_Credit[['Time','Amount']].groupby(['Time']).sum().plot()"
   ]
  },
  {
   "cell_type": "code",
   "execution_count": 28,
   "metadata": {},
   "outputs": [
    {
     "name": "stdout",
     "output_type": "stream",
     "text": [
      "Entire Dataset: 16612287.819999997\n",
      "Non-Fraudulent Dataset: 16569724.980000002\n",
      "Fraudulent Dataset: 42562.84\n"
     ]
    }
   ],
   "source": [
    "# The total summed amount for the different classes\n",
    "print(\"Entire Dataset: \" + str(Credit_Card.Amount.sum()))\n",
    "print(\"Non-Fraudulent Dataset: \" + str(NonFraud_Credit.Amount.sum()))\n",
    "print(\"Fraudulent Dataset: \" + str(Fraud_Credit.Amount.sum()))"
   ]
  },
  {
   "cell_type": "code",
   "execution_count": 29,
   "metadata": {},
   "outputs": [
    {
     "data": {
      "text/plain": [
       "((185666, 31), (185314, 31), (351, 31))"
      ]
     },
     "execution_count": 29,
     "metadata": {},
     "output_type": "execute_result"
    }
   ],
   "source": [
    "# Removing zero from \"Amount\" Transaction\n",
    "Credit_Card.drop(Credit_Card[Credit_Card.Amount == 0].index, inplace=True)\n",
    "NonFraudulentCredit = Credit_Card[Credit_Card[\"Class\"]==0]\n",
    "FraudulentCredit = Credit_Card[Credit_Card[\"Class\"]==1]\n",
    "(Credit_Card.shape, NonFraudulentCredit.shape, FraudulentCredit.shape)\n"
   ]
  },
  {
   "cell_type": "code",
   "execution_count": 30,
   "metadata": {},
   "outputs": [],
   "source": [
    "# Comparing standard scaled features against original features\n",
    "def kdeplot(x, ax, xlabel, title, color):\n",
    "    ax = sns.kdeplot(x=data, y=pdf, color=color, fill=True, ax=ax)\n",
    "    # Change face color and grid lines\n",
    "    ax.set_facecolor('white')\n",
    "    ax.grid(which='major', linewidth='0.2', color='gray')\n",
    "    # Set title, x and y labels\n",
    "    ax.set_title(title)\n",
    "    ax.set_xlabel(xlabel)\n",
    "    ax.set_ylabel('Probability Density')\n",
    "    \n",
    "# Create subplots\n",
    "    fig, ((ax1, ax2), (ax3, ax4)) = plt.subplots(2,2, figsize=(15,12))\n",
    "# Find the kde's of transaction amount and transaction time for standard scaled features vs original features\n",
    "    sns.kdeplot(Credit_Card[Credit_Card['Class']==0]['Amount'], ax=ax[0][0], color='r')\n",
    "    ax[0][0].set_title('Non-Fraudulent: Transaction Amount (Original)', fontsize=12)\n",
    "    sns.kdeplot(Credit_Card[Credit_Card['Class']==1]['Time'], ax=ax[0][1], color='b')\n",
    "    ax[0][1].set_title('Fraudulent: Transaction Time(Original)', fontsize=12)\n",
    "    sns.kdeplot(Credit_Card[Credit_Card['Class']==0][col1], ax=ax[1][0], color='r')\n",
    "    ax[1][0].set_title('Non-Fradulent: Transaction Amount('+ name +')', fontsize=12)\n",
    "    sns.kdeplot(Credit_Card[Credit_Card['Class']==1][col2], ax=ax[1][1], color='b')\n",
    "    ax[1][1].set_title('Fraudulent: Transaction Time(RobustScaler)', fontsize=12)\n",
    "    fig,((ax1, ax2), (ax3, ax4))  = plt.subplots(2, 2, figsize=(16,7))\n",
    "# Show plots\n",
    "    plt.show()"
   ]
  },
  {
   "cell_type": "code",
   "execution_count": 31,
   "metadata": {},
   "outputs": [
    {
     "data": {
      "text/plain": [
       "<AxesSubplot:>"
      ]
     },
     "execution_count": 31,
     "metadata": {},
     "output_type": "execute_result"
    },
    {
     "data": {
      "image/png": "[encoded data removed]",
      "text/plain": [
       "<Figure size 864x576 with 2 Axes>"
      ]
     },
     "metadata": {
      "needs_background": "light"
     },
     "output_type": "display_data"
    }
   ],
   "source": [
    "# Correlation heat map after scaling\n",
    "plt.figure(figsize=(12,8))\n",
    "sns.heatmap(Credit_Card.corr(), cmap='coolwarm_r', annot=False)"
   ]
  },
  {
   "cell_type": "code",
   "execution_count": 32,
   "metadata": {},
   "outputs": [
    {
     "data": {
      "text/html": [
       "<div>\n",
       "<style scoped>\n",
       "    .dataframe tbody tr th:only-of-type {\n",
       "        vertical-align: middle;\n",
       "    }\n",
       "\n",
       "    .dataframe tbody tr th {\n",
       "        vertical-align: top;\n",
       "    }\n",
       "\n",
       "    .dataframe thead th {\n",
       "        text-align: right;\n",
       "    }\n",
       "</style>\n",
       "<table border=\"1\" class=\"dataframe\">\n",
       "  <thead>\n",
       "    <tr style=\"text-align: right;\">\n",
       "      <th></th>\n",
       "      <th>Time</th>\n",
       "      <th>V1</th>\n",
       "      <th>V2</th>\n",
       "      <th>V3</th>\n",
       "      <th>V4</th>\n",
       "      <th>V5</th>\n",
       "      <th>V6</th>\n",
       "      <th>V7</th>\n",
       "      <th>V8</th>\n",
       "      <th>V9</th>\n",
       "      <th>...</th>\n",
       "      <th>V23</th>\n",
       "      <th>V24</th>\n",
       "      <th>V25</th>\n",
       "      <th>V26</th>\n",
       "      <th>V27</th>\n",
       "      <th>V28</th>\n",
       "      <th>Amount</th>\n",
       "      <th>Class</th>\n",
       "      <th>robust_time</th>\n",
       "      <th>robust_amount</th>\n",
       "    </tr>\n",
       "  </thead>\n",
       "  <tbody>\n",
       "    <tr>\n",
       "      <th>0</th>\n",
       "      <td>0.0</td>\n",
       "      <td>-1.359807</td>\n",
       "      <td>-0.072781</td>\n",
       "      <td>2.536347</td>\n",
       "      <td>1.378155</td>\n",
       "      <td>-0.338321</td>\n",
       "      <td>0.462388</td>\n",
       "      <td>0.239599</td>\n",
       "      <td>0.098698</td>\n",
       "      <td>0.363787</td>\n",
       "      <td>...</td>\n",
       "      <td>-0.110474</td>\n",
       "      <td>0.066928</td>\n",
       "      <td>0.128539</td>\n",
       "      <td>-0.189115</td>\n",
       "      <td>0.133558</td>\n",
       "      <td>-0.021053</td>\n",
       "      <td>149.62</td>\n",
       "      <td>0.0</td>\n",
       "      <td>-1.586453</td>\n",
       "      <td>1.734996</td>\n",
       "    </tr>\n",
       "    <tr>\n",
       "      <th>1</th>\n",
       "      <td>0.0</td>\n",
       "      <td>1.191857</td>\n",
       "      <td>0.266151</td>\n",
       "      <td>0.166480</td>\n",
       "      <td>0.448154</td>\n",
       "      <td>0.060018</td>\n",
       "      <td>-0.082361</td>\n",
       "      <td>-0.078803</td>\n",
       "      <td>0.085102</td>\n",
       "      <td>-0.255425</td>\n",
       "      <td>...</td>\n",
       "      <td>0.101288</td>\n",
       "      <td>-0.339846</td>\n",
       "      <td>0.167170</td>\n",
       "      <td>0.125895</td>\n",
       "      <td>-0.008983</td>\n",
       "      <td>0.014724</td>\n",
       "      <td>2.69</td>\n",
       "      <td>0.0</td>\n",
       "      <td>-1.586453</td>\n",
       "      <td>-0.278295</td>\n",
       "    </tr>\n",
       "    <tr>\n",
       "      <th>2</th>\n",
       "      <td>1.0</td>\n",
       "      <td>-1.358354</td>\n",
       "      <td>-1.340163</td>\n",
       "      <td>1.773209</td>\n",
       "      <td>0.379780</td>\n",
       "      <td>-0.503198</td>\n",
       "      <td>1.800499</td>\n",
       "      <td>0.791461</td>\n",
       "      <td>0.247676</td>\n",
       "      <td>-1.514654</td>\n",
       "      <td>...</td>\n",
       "      <td>0.909412</td>\n",
       "      <td>-0.689281</td>\n",
       "      <td>-0.327642</td>\n",
       "      <td>-0.139097</td>\n",
       "      <td>-0.055353</td>\n",
       "      <td>-0.059752</td>\n",
       "      <td>378.66</td>\n",
       "      <td>0.0</td>\n",
       "      <td>-1.586428</td>\n",
       "      <td>4.873390</td>\n",
       "    </tr>\n",
       "    <tr>\n",
       "      <th>3</th>\n",
       "      <td>1.0</td>\n",
       "      <td>-0.966272</td>\n",
       "      <td>-0.185226</td>\n",
       "      <td>1.792993</td>\n",
       "      <td>-0.863291</td>\n",
       "      <td>-0.010309</td>\n",
       "      <td>1.247203</td>\n",
       "      <td>0.237609</td>\n",
       "      <td>0.377436</td>\n",
       "      <td>-1.387024</td>\n",
       "      <td>...</td>\n",
       "      <td>-0.190321</td>\n",
       "      <td>-1.175575</td>\n",
       "      <td>0.647376</td>\n",
       "      <td>-0.221929</td>\n",
       "      <td>0.062723</td>\n",
       "      <td>0.061458</td>\n",
       "      <td>123.50</td>\n",
       "      <td>0.0</td>\n",
       "      <td>-1.586428</td>\n",
       "      <td>1.377090</td>\n",
       "    </tr>\n",
       "    <tr>\n",
       "      <th>4</th>\n",
       "      <td>2.0</td>\n",
       "      <td>-1.158233</td>\n",
       "      <td>0.877737</td>\n",
       "      <td>1.548718</td>\n",
       "      <td>0.403034</td>\n",
       "      <td>-0.407193</td>\n",
       "      <td>0.095921</td>\n",
       "      <td>0.592941</td>\n",
       "      <td>-0.270533</td>\n",
       "      <td>0.817739</td>\n",
       "      <td>...</td>\n",
       "      <td>-0.137458</td>\n",
       "      <td>0.141267</td>\n",
       "      <td>-0.206010</td>\n",
       "      <td>0.502292</td>\n",
       "      <td>0.219422</td>\n",
       "      <td>0.215153</td>\n",
       "      <td>69.99</td>\n",
       "      <td>0.0</td>\n",
       "      <td>-1.586403</td>\n",
       "      <td>0.643875</td>\n",
       "    </tr>\n",
       "  </tbody>\n",
       "</table>\n",
       "<p>5 rows × 33 columns</p>\n",
       "</div>"
      ],
      "text/plain": [
       "   Time        V1        V2        V3        V4        V5        V6        V7  \\\n",
       "0   0.0 -1.359807 -0.072781  2.536347  1.378155 -0.338321  0.462388  0.239599   \n",
       "1   0.0  1.191857  0.266151  0.166480  0.448154  0.060018 -0.082361 -0.078803   \n",
       "2   1.0 -1.358354 -1.340163  1.773209  0.379780 -0.503198  1.800499  0.791461   \n",
       "3   1.0 -0.966272 -0.185226  1.792993 -0.863291 -0.010309  1.247203  0.237609   \n",
       "4   2.0 -1.158233  0.877737  1.548718  0.403034 -0.407193  0.095921  0.592941   \n",
       "\n",
       "         V8        V9  ...       V23       V24       V25       V26       V27  \\\n",
       "0  0.098698  0.363787  ... -0.110474  0.066928  0.128539 -0.189115  0.133558   \n",
       "1  0.085102 -0.255425  ...  0.101288 -0.339846  0.167170  0.125895 -0.008983   \n",
       "2  0.247676 -1.514654  ...  0.909412 -0.689281 -0.327642 -0.139097 -0.055353   \n",
       "3  0.377436 -1.387024  ... -0.190321 -1.175575  0.647376 -0.221929  0.062723   \n",
       "4 -0.270533  0.817739  ... -0.137458  0.141267 -0.206010  0.502292  0.219422   \n",
       "\n",
       "        V28  Amount  Class  robust_time  robust_amount  \n",
       "0 -0.021053  149.62    0.0    -1.586453       1.734996  \n",
       "1  0.014724    2.69    0.0    -1.586453      -0.278295  \n",
       "2 -0.059752  378.66    0.0    -1.586428       4.873390  \n",
       "3  0.061458  123.50    0.0    -1.586428       1.377090  \n",
       "4  0.215153   69.99    0.0    -1.586403       0.643875  \n",
       "\n",
       "[5 rows x 33 columns]"
      ]
     },
     "execution_count": 32,
     "metadata": {},
     "output_type": "execute_result"
    }
   ],
   "source": [
    "# Scaling the entire dataset\n",
    "from sklearn.preprocessing import RobustScaler\n",
    "rob_scaler = RobustScaler()\n",
    "Credit_Card['robust_time'] = rob_scaler.fit_transform(Credit_Card['Time'].values.reshape(-1,1))\n",
    "Credit_Card['robust_amount'] = rob_scaler.fit_transform(Credit_Card['Amount'].values.reshape(-1,1))\n",
    "# Check\n",
    "Credit_Card.head()"
   ]
  },
  {
   "cell_type": "code",
   "execution_count": 33,
   "metadata": {},
   "outputs": [
    {
     "data": {
      "text/html": [
       "<div>\n",
       "<style scoped>\n",
       "    .dataframe tbody tr th:only-of-type {\n",
       "        vertical-align: middle;\n",
       "    }\n",
       "\n",
       "    .dataframe tbody tr th {\n",
       "        vertical-align: top;\n",
       "    }\n",
       "\n",
       "    .dataframe thead th {\n",
       "        text-align: right;\n",
       "    }\n",
       "</style>\n",
       "<table border=\"1\" class=\"dataframe\">\n",
       "  <thead>\n",
       "    <tr style=\"text-align: right;\">\n",
       "      <th></th>\n",
       "      <th>Time</th>\n",
       "      <th>V1</th>\n",
       "      <th>V2</th>\n",
       "      <th>V3</th>\n",
       "      <th>V4</th>\n",
       "      <th>V5</th>\n",
       "      <th>V6</th>\n",
       "      <th>V7</th>\n",
       "      <th>V8</th>\n",
       "      <th>V9</th>\n",
       "      <th>...</th>\n",
       "      <th>V25</th>\n",
       "      <th>V26</th>\n",
       "      <th>V27</th>\n",
       "      <th>V28</th>\n",
       "      <th>Amount</th>\n",
       "      <th>Class</th>\n",
       "      <th>robust_time</th>\n",
       "      <th>robust_amount</th>\n",
       "      <th>ptrans_amount</th>\n",
       "      <th>ptrans_time</th>\n",
       "    </tr>\n",
       "  </thead>\n",
       "  <tbody>\n",
       "    <tr>\n",
       "      <th>0</th>\n",
       "      <td>0.0</td>\n",
       "      <td>-1.359807</td>\n",
       "      <td>-0.072781</td>\n",
       "      <td>2.536347</td>\n",
       "      <td>1.378155</td>\n",
       "      <td>-0.338321</td>\n",
       "      <td>0.462388</td>\n",
       "      <td>0.239599</td>\n",
       "      <td>0.098698</td>\n",
       "      <td>0.363787</td>\n",
       "      <td>...</td>\n",
       "      <td>0.128539</td>\n",
       "      <td>-0.189115</td>\n",
       "      <td>0.133558</td>\n",
       "      <td>-0.021053</td>\n",
       "      <td>149.62</td>\n",
       "      <td>0.0</td>\n",
       "      <td>-1.586453</td>\n",
       "      <td>1.734996</td>\n",
       "      <td>1.109201</td>\n",
       "      <td>-2.567083</td>\n",
       "    </tr>\n",
       "    <tr>\n",
       "      <th>1</th>\n",
       "      <td>0.0</td>\n",
       "      <td>1.191857</td>\n",
       "      <td>0.266151</td>\n",
       "      <td>0.166480</td>\n",
       "      <td>0.448154</td>\n",
       "      <td>0.060018</td>\n",
       "      <td>-0.082361</td>\n",
       "      <td>-0.078803</td>\n",
       "      <td>0.085102</td>\n",
       "      <td>-0.255425</td>\n",
       "      <td>...</td>\n",
       "      <td>0.167170</td>\n",
       "      <td>0.125895</td>\n",
       "      <td>-0.008983</td>\n",
       "      <td>0.014724</td>\n",
       "      <td>2.69</td>\n",
       "      <td>0.0</td>\n",
       "      <td>-1.586453</td>\n",
       "      <td>-0.278295</td>\n",
       "      <td>-1.162361</td>\n",
       "      <td>-2.567083</td>\n",
       "    </tr>\n",
       "    <tr>\n",
       "      <th>2</th>\n",
       "      <td>1.0</td>\n",
       "      <td>-1.358354</td>\n",
       "      <td>-1.340163</td>\n",
       "      <td>1.773209</td>\n",
       "      <td>0.379780</td>\n",
       "      <td>-0.503198</td>\n",
       "      <td>1.800499</td>\n",
       "      <td>0.791461</td>\n",
       "      <td>0.247676</td>\n",
       "      <td>-1.514654</td>\n",
       "      <td>...</td>\n",
       "      <td>-0.327642</td>\n",
       "      <td>-0.139097</td>\n",
       "      <td>-0.055353</td>\n",
       "      <td>-0.059752</td>\n",
       "      <td>378.66</td>\n",
       "      <td>0.0</td>\n",
       "      <td>-1.586428</td>\n",
       "      <td>4.873390</td>\n",
       "      <td>1.618873</td>\n",
       "      <td>-2.566725</td>\n",
       "    </tr>\n",
       "    <tr>\n",
       "      <th>3</th>\n",
       "      <td>1.0</td>\n",
       "      <td>-0.966272</td>\n",
       "      <td>-0.185226</td>\n",
       "      <td>1.792993</td>\n",
       "      <td>-0.863291</td>\n",
       "      <td>-0.010309</td>\n",
       "      <td>1.247203</td>\n",
       "      <td>0.237609</td>\n",
       "      <td>0.377436</td>\n",
       "      <td>-1.387024</td>\n",
       "      <td>...</td>\n",
       "      <td>0.647376</td>\n",
       "      <td>-0.221929</td>\n",
       "      <td>0.062723</td>\n",
       "      <td>0.061458</td>\n",
       "      <td>123.50</td>\n",
       "      <td>0.0</td>\n",
       "      <td>-1.586428</td>\n",
       "      <td>1.377090</td>\n",
       "      <td>1.001551</td>\n",
       "      <td>-2.566725</td>\n",
       "    </tr>\n",
       "    <tr>\n",
       "      <th>4</th>\n",
       "      <td>2.0</td>\n",
       "      <td>-1.158233</td>\n",
       "      <td>0.877737</td>\n",
       "      <td>1.548718</td>\n",
       "      <td>0.403034</td>\n",
       "      <td>-0.407193</td>\n",
       "      <td>0.095921</td>\n",
       "      <td>0.592941</td>\n",
       "      <td>-0.270533</td>\n",
       "      <td>0.817739</td>\n",
       "      <td>...</td>\n",
       "      <td>-0.206010</td>\n",
       "      <td>0.502292</td>\n",
       "      <td>0.219422</td>\n",
       "      <td>0.215153</td>\n",
       "      <td>69.99</td>\n",
       "      <td>0.0</td>\n",
       "      <td>-1.586403</td>\n",
       "      <td>0.643875</td>\n",
       "      <td>0.678606</td>\n",
       "      <td>-2.566409</td>\n",
       "    </tr>\n",
       "  </tbody>\n",
       "</table>\n",
       "<p>5 rows × 35 columns</p>\n",
       "</div>"
      ],
      "text/plain": [
       "   Time        V1        V2        V3        V4        V5        V6        V7  \\\n",
       "0   0.0 -1.359807 -0.072781  2.536347  1.378155 -0.338321  0.462388  0.239599   \n",
       "1   0.0  1.191857  0.266151  0.166480  0.448154  0.060018 -0.082361 -0.078803   \n",
       "2   1.0 -1.358354 -1.340163  1.773209  0.379780 -0.503198  1.800499  0.791461   \n",
       "3   1.0 -0.966272 -0.185226  1.792993 -0.863291 -0.010309  1.247203  0.237609   \n",
       "4   2.0 -1.158233  0.877737  1.548718  0.403034 -0.407193  0.095921  0.592941   \n",
       "\n",
       "         V8        V9  ...       V25       V26       V27       V28  Amount  \\\n",
       "0  0.098698  0.363787  ...  0.128539 -0.189115  0.133558 -0.021053  149.62   \n",
       "1  0.085102 -0.255425  ...  0.167170  0.125895 -0.008983  0.014724    2.69   \n",
       "2  0.247676 -1.514654  ... -0.327642 -0.139097 -0.055353 -0.059752  378.66   \n",
       "3  0.377436 -1.387024  ...  0.647376 -0.221929  0.062723  0.061458  123.50   \n",
       "4 -0.270533  0.817739  ... -0.206010  0.502292  0.219422  0.215153   69.99   \n",
       "\n",
       "   Class  robust_time  robust_amount  ptrans_amount  ptrans_time  \n",
       "0    0.0    -1.586453       1.734996       1.109201    -2.567083  \n",
       "1    0.0    -1.586453      -0.278295      -1.162361    -2.567083  \n",
       "2    0.0    -1.586428       4.873390       1.618873    -2.566725  \n",
       "3    0.0    -1.586428       1.377090       1.001551    -2.566725  \n",
       "4    0.0    -1.586403       0.643875       0.678606    -2.566409  \n",
       "\n",
       "[5 rows x 35 columns]"
      ]
     },
     "execution_count": 33,
     "metadata": {},
     "output_type": "execute_result"
    }
   ],
   "source": [
    "# Power transformer on the dataset\n",
    "from sklearn.preprocessing import PowerTransformer\n",
    "p_trans = PowerTransformer()\n",
    "Credit_Card['ptrans_amount'] = p_trans.fit_transform(Credit_Card['Amount'].values.reshape(-1,1))\n",
    "Credit_Card['ptrans_time'] = p_trans.fit_transform(Credit_Card['Time'].values.reshape(-1,1))\n",
    "# Check\n",
    "Credit_Card.head()\n"
   ]
  },
  {
   "cell_type": "code",
   "execution_count": 34,
   "metadata": {},
   "outputs": [
    {
     "data": {
      "text/html": [
       "<div>\n",
       "<style scoped>\n",
       "    .dataframe tbody tr th:only-of-type {\n",
       "        vertical-align: middle;\n",
       "    }\n",
       "\n",
       "    .dataframe tbody tr th {\n",
       "        vertical-align: top;\n",
       "    }\n",
       "\n",
       "    .dataframe thead th {\n",
       "        text-align: right;\n",
       "    }\n",
       "</style>\n",
       "<table border=\"1\" class=\"dataframe\">\n",
       "  <thead>\n",
       "    <tr style=\"text-align: right;\">\n",
       "      <th></th>\n",
       "      <th>Time</th>\n",
       "      <th>V1</th>\n",
       "      <th>V2</th>\n",
       "      <th>V3</th>\n",
       "      <th>V4</th>\n",
       "      <th>V5</th>\n",
       "      <th>V6</th>\n",
       "      <th>V7</th>\n",
       "      <th>V8</th>\n",
       "      <th>V9</th>\n",
       "      <th>...</th>\n",
       "      <th>V27</th>\n",
       "      <th>V28</th>\n",
       "      <th>Amount</th>\n",
       "      <th>Class</th>\n",
       "      <th>robust_time</th>\n",
       "      <th>robust_amount</th>\n",
       "      <th>ptrans_amount</th>\n",
       "      <th>ptrans_time</th>\n",
       "      <th>qtransn_amount</th>\n",
       "      <th>qtransn_time</th>\n",
       "    </tr>\n",
       "  </thead>\n",
       "  <tbody>\n",
       "    <tr>\n",
       "      <th>0</th>\n",
       "      <td>0.0</td>\n",
       "      <td>-1.359807</td>\n",
       "      <td>-0.072781</td>\n",
       "      <td>2.536347</td>\n",
       "      <td>1.378155</td>\n",
       "      <td>-0.338321</td>\n",
       "      <td>0.462388</td>\n",
       "      <td>0.239599</td>\n",
       "      <td>0.098698</td>\n",
       "      <td>0.363787</td>\n",
       "      <td>...</td>\n",
       "      <td>0.133558</td>\n",
       "      <td>-0.021053</td>\n",
       "      <td>149.62</td>\n",
       "      <td>0.0</td>\n",
       "      <td>-1.586453</td>\n",
       "      <td>1.734996</td>\n",
       "      <td>1.109201</td>\n",
       "      <td>-2.567083</td>\n",
       "      <td>1.072378</td>\n",
       "      <td>-5.199338</td>\n",
       "    </tr>\n",
       "    <tr>\n",
       "      <th>1</th>\n",
       "      <td>0.0</td>\n",
       "      <td>1.191857</td>\n",
       "      <td>0.266151</td>\n",
       "      <td>0.166480</td>\n",
       "      <td>0.448154</td>\n",
       "      <td>0.060018</td>\n",
       "      <td>-0.082361</td>\n",
       "      <td>-0.078803</td>\n",
       "      <td>0.085102</td>\n",
       "      <td>-0.255425</td>\n",
       "      <td>...</td>\n",
       "      <td>-0.008983</td>\n",
       "      <td>0.014724</td>\n",
       "      <td>2.69</td>\n",
       "      <td>0.0</td>\n",
       "      <td>-1.586453</td>\n",
       "      <td>-0.278295</td>\n",
       "      <td>-1.162361</td>\n",
       "      <td>-2.567083</td>\n",
       "      <td>-0.926176</td>\n",
       "      <td>-5.199338</td>\n",
       "    </tr>\n",
       "    <tr>\n",
       "      <th>2</th>\n",
       "      <td>1.0</td>\n",
       "      <td>-1.358354</td>\n",
       "      <td>-1.340163</td>\n",
       "      <td>1.773209</td>\n",
       "      <td>0.379780</td>\n",
       "      <td>-0.503198</td>\n",
       "      <td>1.800499</td>\n",
       "      <td>0.791461</td>\n",
       "      <td>0.247676</td>\n",
       "      <td>-1.514654</td>\n",
       "      <td>...</td>\n",
       "      <td>-0.055353</td>\n",
       "      <td>-0.059752</td>\n",
       "      <td>378.66</td>\n",
       "      <td>0.0</td>\n",
       "      <td>-1.586428</td>\n",
       "      <td>4.873390</td>\n",
       "      <td>1.618873</td>\n",
       "      <td>-2.566725</td>\n",
       "      <td>1.670540</td>\n",
       "      <td>-4.290101</td>\n",
       "    </tr>\n",
       "    <tr>\n",
       "      <th>3</th>\n",
       "      <td>1.0</td>\n",
       "      <td>-0.966272</td>\n",
       "      <td>-0.185226</td>\n",
       "      <td>1.792993</td>\n",
       "      <td>-0.863291</td>\n",
       "      <td>-0.010309</td>\n",
       "      <td>1.247203</td>\n",
       "      <td>0.237609</td>\n",
       "      <td>0.377436</td>\n",
       "      <td>-1.387024</td>\n",
       "      <td>...</td>\n",
       "      <td>0.062723</td>\n",
       "      <td>0.061458</td>\n",
       "      <td>123.50</td>\n",
       "      <td>0.0</td>\n",
       "      <td>-1.586428</td>\n",
       "      <td>1.377090</td>\n",
       "      <td>1.001551</td>\n",
       "      <td>-2.566725</td>\n",
       "      <td>0.955471</td>\n",
       "      <td>-4.290101</td>\n",
       "    </tr>\n",
       "    <tr>\n",
       "      <th>4</th>\n",
       "      <td>2.0</td>\n",
       "      <td>-1.158233</td>\n",
       "      <td>0.877737</td>\n",
       "      <td>1.548718</td>\n",
       "      <td>0.403034</td>\n",
       "      <td>-0.407193</td>\n",
       "      <td>0.095921</td>\n",
       "      <td>0.592941</td>\n",
       "      <td>-0.270533</td>\n",
       "      <td>0.817739</td>\n",
       "      <td>...</td>\n",
       "      <td>0.219422</td>\n",
       "      <td>0.215153</td>\n",
       "      <td>69.99</td>\n",
       "      <td>0.0</td>\n",
       "      <td>-1.586403</td>\n",
       "      <td>0.643875</td>\n",
       "      <td>0.678606</td>\n",
       "      <td>-2.566409</td>\n",
       "      <td>0.601439</td>\n",
       "      <td>-4.133562</td>\n",
       "    </tr>\n",
       "  </tbody>\n",
       "</table>\n",
       "<p>5 rows × 37 columns</p>\n",
       "</div>"
      ],
      "text/plain": [
       "   Time        V1        V2        V3        V4        V5        V6        V7  \\\n",
       "0   0.0 -1.359807 -0.072781  2.536347  1.378155 -0.338321  0.462388  0.239599   \n",
       "1   0.0  1.191857  0.266151  0.166480  0.448154  0.060018 -0.082361 -0.078803   \n",
       "2   1.0 -1.358354 -1.340163  1.773209  0.379780 -0.503198  1.800499  0.791461   \n",
       "3   1.0 -0.966272 -0.185226  1.792993 -0.863291 -0.010309  1.247203  0.237609   \n",
       "4   2.0 -1.158233  0.877737  1.548718  0.403034 -0.407193  0.095921  0.592941   \n",
       "\n",
       "         V8        V9  ...       V27       V28  Amount  Class  robust_time  \\\n",
       "0  0.098698  0.363787  ...  0.133558 -0.021053  149.62    0.0    -1.586453   \n",
       "1  0.085102 -0.255425  ... -0.008983  0.014724    2.69    0.0    -1.586453   \n",
       "2  0.247676 -1.514654  ... -0.055353 -0.059752  378.66    0.0    -1.586428   \n",
       "3  0.377436 -1.387024  ...  0.062723  0.061458  123.50    0.0    -1.586428   \n",
       "4 -0.270533  0.817739  ...  0.219422  0.215153   69.99    0.0    -1.586403   \n",
       "\n",
       "   robust_amount  ptrans_amount  ptrans_time  qtransn_amount  qtransn_time  \n",
       "0       1.734996       1.109201    -2.567083        1.072378     -5.199338  \n",
       "1      -0.278295      -1.162361    -2.567083       -0.926176     -5.199338  \n",
       "2       4.873390       1.618873    -2.566725        1.670540     -4.290101  \n",
       "3       1.377090       1.001551    -2.566725        0.955471     -4.290101  \n",
       "4       0.643875       0.678606    -2.566409        0.601439     -4.133562  \n",
       "\n",
       "[5 rows x 37 columns]"
      ]
     },
     "execution_count": 34,
     "metadata": {},
     "output_type": "execute_result"
    }
   ],
   "source": [
    "# Quantile transformer\n",
    "from sklearn.preprocessing import QuantileTransformer\n",
    "q_trans = QuantileTransformer(output_distribution='normal')\n",
    "Credit_Card['qtransn_amount'] = q_trans.fit_transform(Credit_Card['Amount'].values.reshape(-1,1))\n",
    "Credit_Card['qtransn_time'] = q_trans.fit_transform(Credit_Card['Time'].values.reshape(-1,1))\n",
    "\n",
    "# Check\n",
    "Credit_Card.head()\n",
    "\n"
   ]
  },
  {
   "cell_type": "code",
   "execution_count": 35,
   "metadata": {},
   "outputs": [
    {
     "data": {
      "text/html": [
       "<div>\n",
       "<style scoped>\n",
       "    .dataframe tbody tr th:only-of-type {\n",
       "        vertical-align: middle;\n",
       "    }\n",
       "\n",
       "    .dataframe tbody tr th {\n",
       "        vertical-align: top;\n",
       "    }\n",
       "\n",
       "    .dataframe thead th {\n",
       "        text-align: right;\n",
       "    }\n",
       "</style>\n",
       "<table border=\"1\" class=\"dataframe\">\n",
       "  <thead>\n",
       "    <tr style=\"text-align: right;\">\n",
       "      <th></th>\n",
       "      <th>Time</th>\n",
       "      <th>V1</th>\n",
       "      <th>V2</th>\n",
       "      <th>V3</th>\n",
       "      <th>V4</th>\n",
       "      <th>V5</th>\n",
       "      <th>V6</th>\n",
       "      <th>V7</th>\n",
       "      <th>V8</th>\n",
       "      <th>V9</th>\n",
       "      <th>...</th>\n",
       "      <th>Amount</th>\n",
       "      <th>Class</th>\n",
       "      <th>robust_time</th>\n",
       "      <th>robust_amount</th>\n",
       "      <th>ptrans_amount</th>\n",
       "      <th>ptrans_time</th>\n",
       "      <th>qtransn_amount</th>\n",
       "      <th>qtransn_time</th>\n",
       "      <th>qtransu_amount</th>\n",
       "      <th>qtransu_time</th>\n",
       "    </tr>\n",
       "  </thead>\n",
       "  <tbody>\n",
       "    <tr>\n",
       "      <th>0</th>\n",
       "      <td>0.0</td>\n",
       "      <td>-1.359807</td>\n",
       "      <td>-0.072781</td>\n",
       "      <td>2.536347</td>\n",
       "      <td>1.378155</td>\n",
       "      <td>-0.338321</td>\n",
       "      <td>0.462388</td>\n",
       "      <td>0.239599</td>\n",
       "      <td>0.098698</td>\n",
       "      <td>0.363787</td>\n",
       "      <td>...</td>\n",
       "      <td>149.62</td>\n",
       "      <td>0.0</td>\n",
       "      <td>-1.586453</td>\n",
       "      <td>1.734996</td>\n",
       "      <td>1.109201</td>\n",
       "      <td>-2.567083</td>\n",
       "      <td>1.072378</td>\n",
       "      <td>-5.199338</td>\n",
       "      <td>0.858485</td>\n",
       "      <td>0.000000</td>\n",
       "    </tr>\n",
       "    <tr>\n",
       "      <th>1</th>\n",
       "      <td>0.0</td>\n",
       "      <td>1.191857</td>\n",
       "      <td>0.266151</td>\n",
       "      <td>0.166480</td>\n",
       "      <td>0.448154</td>\n",
       "      <td>0.060018</td>\n",
       "      <td>-0.082361</td>\n",
       "      <td>-0.078803</td>\n",
       "      <td>0.085102</td>\n",
       "      <td>-0.255425</td>\n",
       "      <td>...</td>\n",
       "      <td>2.69</td>\n",
       "      <td>0.0</td>\n",
       "      <td>-1.586453</td>\n",
       "      <td>-0.278295</td>\n",
       "      <td>-1.162361</td>\n",
       "      <td>-2.567083</td>\n",
       "      <td>-0.926176</td>\n",
       "      <td>-5.199338</td>\n",
       "      <td>0.178178</td>\n",
       "      <td>0.000000</td>\n",
       "    </tr>\n",
       "    <tr>\n",
       "      <th>2</th>\n",
       "      <td>1.0</td>\n",
       "      <td>-1.358354</td>\n",
       "      <td>-1.340163</td>\n",
       "      <td>1.773209</td>\n",
       "      <td>0.379780</td>\n",
       "      <td>-0.503198</td>\n",
       "      <td>1.800499</td>\n",
       "      <td>0.791461</td>\n",
       "      <td>0.247676</td>\n",
       "      <td>-1.514654</td>\n",
       "      <td>...</td>\n",
       "      <td>378.66</td>\n",
       "      <td>0.0</td>\n",
       "      <td>-1.586428</td>\n",
       "      <td>4.873390</td>\n",
       "      <td>1.618873</td>\n",
       "      <td>-2.566725</td>\n",
       "      <td>1.670540</td>\n",
       "      <td>-4.290101</td>\n",
       "      <td>0.951623</td>\n",
       "      <td>0.000009</td>\n",
       "    </tr>\n",
       "    <tr>\n",
       "      <th>3</th>\n",
       "      <td>1.0</td>\n",
       "      <td>-0.966272</td>\n",
       "      <td>-0.185226</td>\n",
       "      <td>1.792993</td>\n",
       "      <td>-0.863291</td>\n",
       "      <td>-0.010309</td>\n",
       "      <td>1.247203</td>\n",
       "      <td>0.237609</td>\n",
       "      <td>0.377436</td>\n",
       "      <td>-1.387024</td>\n",
       "      <td>...</td>\n",
       "      <td>123.50</td>\n",
       "      <td>0.0</td>\n",
       "      <td>-1.586428</td>\n",
       "      <td>1.377090</td>\n",
       "      <td>1.001551</td>\n",
       "      <td>-2.566725</td>\n",
       "      <td>0.955471</td>\n",
       "      <td>-4.290101</td>\n",
       "      <td>0.830897</td>\n",
       "      <td>0.000009</td>\n",
       "    </tr>\n",
       "    <tr>\n",
       "      <th>4</th>\n",
       "      <td>2.0</td>\n",
       "      <td>-1.158233</td>\n",
       "      <td>0.877737</td>\n",
       "      <td>1.548718</td>\n",
       "      <td>0.403034</td>\n",
       "      <td>-0.407193</td>\n",
       "      <td>0.095921</td>\n",
       "      <td>0.592941</td>\n",
       "      <td>-0.270533</td>\n",
       "      <td>0.817739</td>\n",
       "      <td>...</td>\n",
       "      <td>69.99</td>\n",
       "      <td>0.0</td>\n",
       "      <td>-1.586403</td>\n",
       "      <td>0.643875</td>\n",
       "      <td>0.678606</td>\n",
       "      <td>-2.566409</td>\n",
       "      <td>0.601439</td>\n",
       "      <td>-4.133562</td>\n",
       "      <td>0.726727</td>\n",
       "      <td>0.000017</td>\n",
       "    </tr>\n",
       "  </tbody>\n",
       "</table>\n",
       "<p>5 rows × 39 columns</p>\n",
       "</div>"
      ],
      "text/plain": [
       "   Time        V1        V2        V3        V4        V5        V6        V7  \\\n",
       "0   0.0 -1.359807 -0.072781  2.536347  1.378155 -0.338321  0.462388  0.239599   \n",
       "1   0.0  1.191857  0.266151  0.166480  0.448154  0.060018 -0.082361 -0.078803   \n",
       "2   1.0 -1.358354 -1.340163  1.773209  0.379780 -0.503198  1.800499  0.791461   \n",
       "3   1.0 -0.966272 -0.185226  1.792993 -0.863291 -0.010309  1.247203  0.237609   \n",
       "4   2.0 -1.158233  0.877737  1.548718  0.403034 -0.407193  0.095921  0.592941   \n",
       "\n",
       "         V8        V9  ...  Amount  Class  robust_time  robust_amount  \\\n",
       "0  0.098698  0.363787  ...  149.62    0.0    -1.586453       1.734996   \n",
       "1  0.085102 -0.255425  ...    2.69    0.0    -1.586453      -0.278295   \n",
       "2  0.247676 -1.514654  ...  378.66    0.0    -1.586428       4.873390   \n",
       "3  0.377436 -1.387024  ...  123.50    0.0    -1.586428       1.377090   \n",
       "4 -0.270533  0.817739  ...   69.99    0.0    -1.586403       0.643875   \n",
       "\n",
       "   ptrans_amount  ptrans_time  qtransn_amount  qtransn_time  qtransu_amount  \\\n",
       "0       1.109201    -2.567083        1.072378     -5.199338        0.858485   \n",
       "1      -1.162361    -2.567083       -0.926176     -5.199338        0.178178   \n",
       "2       1.618873    -2.566725        1.670540     -4.290101        0.951623   \n",
       "3       1.001551    -2.566725        0.955471     -4.290101        0.830897   \n",
       "4       0.678606    -2.566409        0.601439     -4.133562        0.726727   \n",
       "\n",
       "   qtransu_time  \n",
       "0      0.000000  \n",
       "1      0.000000  \n",
       "2      0.000009  \n",
       "3      0.000009  \n",
       "4      0.000017  \n",
       "\n",
       "[5 rows x 39 columns]"
      ]
     },
     "execution_count": 35,
     "metadata": {},
     "output_type": "execute_result"
    }
   ],
   "source": [
    "q_trans = QuantileTransformer(output_distribution='uniform')\n",
    "\n",
    "Credit_Card['qtransu_amount'] = q_trans.fit_transform(Credit_Card['Amount'].values.reshape(-1,1))\n",
    "Credit_Card['qtransu_time'] = q_trans.fit_transform(Credit_Card['Time'].values.reshape(-1,1))\n",
    "\n",
    "# Check\n",
    "Credit_Card.head()"
   ]
  },
  {
   "cell_type": "code",
   "execution_count": 36,
   "metadata": {},
   "outputs": [
    {
     "data": {
      "text/plain": [
       "<AxesSubplot:>"
      ]
     },
     "execution_count": 36,
     "metadata": {},
     "output_type": "execute_result"
    },
    {
     "data": {
      "image/png": "[encoded data removed]",
      "text/plain": [
       "<Figure size 864x720 with 2 Axes>"
      ]
     },
     "metadata": {
      "needs_background": "light"
     },
     "output_type": "display_data"
    }
   ],
   "source": [
    "# Plotting heatmap for only scaled features\n",
    "plt.figure(figsize=(12,10))\n",
    "sns.heatmap(Credit_Card[[\"ptrans_amount\",\"qtransn_amount\",\"qtransu_amount\", \"robust_amount\", \"Amount\", \"Class\", \"Time\",\"robust_time\", \"qtransu_time\",\"qtransn_time\",\"ptrans_time\"]].corr(), cmap='coolwarm_r', annot=True)\n"
   ]
  },
  {
   "cell_type": "code",
   "execution_count": 37,
   "metadata": {},
   "outputs": [
    {
     "data": {
      "text/html": [
       "<div>\n",
       "<style scoped>\n",
       "    .dataframe tbody tr th:only-of-type {\n",
       "        vertical-align: middle;\n",
       "    }\n",
       "\n",
       "    .dataframe tbody tr th {\n",
       "        vertical-align: top;\n",
       "    }\n",
       "\n",
       "    .dataframe thead th {\n",
       "        text-align: right;\n",
       "    }\n",
       "</style>\n",
       "<table border=\"1\" class=\"dataframe\">\n",
       "  <thead>\n",
       "    <tr style=\"text-align: right;\">\n",
       "      <th></th>\n",
       "      <th>count</th>\n",
       "      <th>mean</th>\n",
       "      <th>std</th>\n",
       "      <th>min</th>\n",
       "      <th>25%</th>\n",
       "      <th>50%</th>\n",
       "      <th>75%</th>\n",
       "      <th>max</th>\n",
       "    </tr>\n",
       "  </thead>\n",
       "  <tbody>\n",
       "    <tr>\n",
       "      <th>Amount</th>\n",
       "      <td>185665.0</td>\n",
       "      <td>8.947453e+01</td>\n",
       "      <td>248.175429</td>\n",
       "      <td>0.010000</td>\n",
       "      <td>6.020000</td>\n",
       "      <td>23.000000</td>\n",
       "      <td>79.000000</td>\n",
       "      <td>19656.530000</td>\n",
       "    </tr>\n",
       "    <tr>\n",
       "      <th>robust_amount</th>\n",
       "      <td>185665.0</td>\n",
       "      <td>9.108595e-01</td>\n",
       "      <td>3.400595</td>\n",
       "      <td>-0.315018</td>\n",
       "      <td>-0.232666</td>\n",
       "      <td>0.000000</td>\n",
       "      <td>0.767334</td>\n",
       "      <td>269.026172</td>\n",
       "    </tr>\n",
       "    <tr>\n",
       "      <th>qtransu_amount</th>\n",
       "      <td>185665.0</td>\n",
       "      <td>5.006596e-01</td>\n",
       "      <td>0.288657</td>\n",
       "      <td>0.000000</td>\n",
       "      <td>0.250918</td>\n",
       "      <td>0.501502</td>\n",
       "      <td>0.750250</td>\n",
       "      <td>1.000000</td>\n",
       "    </tr>\n",
       "    <tr>\n",
       "      <th>qtransn_amount</th>\n",
       "      <td>185665.0</td>\n",
       "      <td>-8.942087e-03</td>\n",
       "      <td>1.027963</td>\n",
       "      <td>-5.199338</td>\n",
       "      <td>-0.678748</td>\n",
       "      <td>-0.006273</td>\n",
       "      <td>0.672129</td>\n",
       "      <td>5.199338</td>\n",
       "    </tr>\n",
       "    <tr>\n",
       "      <th>ptrans_amount</th>\n",
       "      <td>185665.0</td>\n",
       "      <td>9.129976e-15</td>\n",
       "      <td>1.000003</td>\n",
       "      <td>-2.049380</td>\n",
       "      <td>-0.740879</td>\n",
       "      <td>0.031631</td>\n",
       "      <td>0.747980</td>\n",
       "      <td>3.571635</td>\n",
       "    </tr>\n",
       "  </tbody>\n",
       "</table>\n",
       "</div>"
      ],
      "text/plain": [
       "                   count          mean         std       min       25%  \\\n",
       "Amount          185665.0  8.947453e+01  248.175429  0.010000  6.020000   \n",
       "robust_amount   185665.0  9.108595e-01    3.400595 -0.315018 -0.232666   \n",
       "qtransu_amount  185665.0  5.006596e-01    0.288657  0.000000  0.250918   \n",
       "qtransn_amount  185665.0 -8.942087e-03    1.027963 -5.199338 -0.678748   \n",
       "ptrans_amount   185665.0  9.129976e-15    1.000003 -2.049380 -0.740879   \n",
       "\n",
       "                      50%        75%           max  \n",
       "Amount          23.000000  79.000000  19656.530000  \n",
       "robust_amount    0.000000   0.767334    269.026172  \n",
       "qtransu_amount   0.501502   0.750250      1.000000  \n",
       "qtransn_amount  -0.006273   0.672129      5.199338  \n",
       "ptrans_amount    0.031631   0.747980      3.571635  "
      ]
     },
     "execution_count": 37,
     "metadata": {},
     "output_type": "execute_result"
    }
   ],
   "source": [
    "# Description of \"Amount\"\n",
    "Credit_Card[[\"Amount\",\"robust_amount\",\"qtransu_amount\",\"qtransn_amount\",\"ptrans_amount\"]].describe().T"
   ]
  },
  {
   "cell_type": "code",
   "execution_count": 38,
   "metadata": {},
   "outputs": [
    {
     "data": {
      "text/html": [
       "<div>\n",
       "<style scoped>\n",
       "    .dataframe tbody tr th:only-of-type {\n",
       "        vertical-align: middle;\n",
       "    }\n",
       "\n",
       "    .dataframe tbody tr th {\n",
       "        vertical-align: top;\n",
       "    }\n",
       "\n",
       "    .dataframe thead th {\n",
       "        text-align: right;\n",
       "    }\n",
       "</style>\n",
       "<table border=\"1\" class=\"dataframe\">\n",
       "  <thead>\n",
       "    <tr style=\"text-align: right;\">\n",
       "      <th></th>\n",
       "      <th>count</th>\n",
       "      <th>mean</th>\n",
       "      <th>std</th>\n",
       "      <th>min</th>\n",
       "      <th>25%</th>\n",
       "      <th>50%</th>\n",
       "      <th>75%</th>\n",
       "      <th>max</th>\n",
       "    </tr>\n",
       "  </thead>\n",
       "  <tbody>\n",
       "    <tr>\n",
       "      <th>Time</th>\n",
       "      <td>185666.0</td>\n",
       "      <td>6.649308e+04</td>\n",
       "      <td>31871.934865</td>\n",
       "      <td>0.000000</td>\n",
       "      <td>42940.000000</td>\n",
       "      <td>64465.500000</td>\n",
       "      <td>83575.000000</td>\n",
       "      <td>127323.000000</td>\n",
       "    </tr>\n",
       "    <tr>\n",
       "      <th>robust_time</th>\n",
       "      <td>185666.0</td>\n",
       "      <td>4.989726e-02</td>\n",
       "      <td>0.784347</td>\n",
       "      <td>-1.586453</td>\n",
       "      <td>-0.529728</td>\n",
       "      <td>0.000000</td>\n",
       "      <td>0.470272</td>\n",
       "      <td>1.546881</td>\n",
       "    </tr>\n",
       "    <tr>\n",
       "      <th>qtransu_time</th>\n",
       "      <td>185666.0</td>\n",
       "      <td>4.999896e-01</td>\n",
       "      <td>0.288681</td>\n",
       "      <td>0.000000</td>\n",
       "      <td>0.249594</td>\n",
       "      <td>0.500433</td>\n",
       "      <td>0.749941</td>\n",
       "      <td>1.000000</td>\n",
       "    </tr>\n",
       "    <tr>\n",
       "      <th>qtransn_time</th>\n",
       "      <td>185666.0</td>\n",
       "      <td>2.758750e-03</td>\n",
       "      <td>0.999199</td>\n",
       "      <td>-5.199338</td>\n",
       "      <td>-0.673272</td>\n",
       "      <td>0.005614</td>\n",
       "      <td>0.679799</td>\n",
       "      <td>5.199338</td>\n",
       "    </tr>\n",
       "    <tr>\n",
       "      <th>ptrans_time</th>\n",
       "      <td>185666.0</td>\n",
       "      <td>4.805710e-15</td>\n",
       "      <td>1.000003</td>\n",
       "      <td>-2.567083</td>\n",
       "      <td>-0.689932</td>\n",
       "      <td>0.000161</td>\n",
       "      <td>0.568634</td>\n",
       "      <td>1.769995</td>\n",
       "    </tr>\n",
       "  </tbody>\n",
       "</table>\n",
       "</div>"
      ],
      "text/plain": [
       "                 count          mean           std       min           25%  \\\n",
       "Time          185666.0  6.649308e+04  31871.934865  0.000000  42940.000000   \n",
       "robust_time   185666.0  4.989726e-02      0.784347 -1.586453     -0.529728   \n",
       "qtransu_time  185666.0  4.999896e-01      0.288681  0.000000      0.249594   \n",
       "qtransn_time  185666.0  2.758750e-03      0.999199 -5.199338     -0.673272   \n",
       "ptrans_time   185666.0  4.805710e-15      1.000003 -2.567083     -0.689932   \n",
       "\n",
       "                       50%           75%            max  \n",
       "Time          64465.500000  83575.000000  127323.000000  \n",
       "robust_time       0.000000      0.470272       1.546881  \n",
       "qtransu_time      0.500433      0.749941       1.000000  \n",
       "qtransn_time      0.005614      0.679799       5.199338  \n",
       "ptrans_time       0.000161      0.568634       1.769995  "
      ]
     },
     "execution_count": 38,
     "metadata": {},
     "output_type": "execute_result"
    }
   ],
   "source": [
    "# Description of  \"Time\"\n",
    "Credit_Card[[\"Time\",\"robust_time\",\"qtransu_time\",\"qtransn_time\",\"ptrans_time\"]].describe().T"
   ]
  },
  {
   "cell_type": "code",
   "execution_count": 39,
   "metadata": {},
   "outputs": [],
   "source": [
    "# Using BoxCox transformation to normalize the dataset."
   ]
  },
  {
   "cell_type": "code",
   "execution_count": 40,
   "metadata": {},
   "outputs": [
    {
     "data": {
      "text/plain": [
       "(843, 39)"
      ]
     },
     "execution_count": 40,
     "metadata": {},
     "output_type": "execute_result"
    }
   ],
   "source": [
    "# Using NearMiss algorithm for random undersample\n",
    "\n",
    "# Counting the number of frauds in the dataset\n",
    "Credit_Card['Class'].value_counts()[1]\n",
    "\n",
    "# Creating a balanced sub-dataset\n",
    "Fraud = Credit_Card.loc[Credit_Card['Class'] == 1]\n",
    "NonFraud = Credit_Card.loc[Credit_Card['Class'] ==0][:492]\n",
    "\n",
    "undersample = pd.concat([Fraud,NonFraud])\n",
    "undersample.shape"
   ]
  },
  {
   "cell_type": "code",
   "execution_count": 41,
   "metadata": {},
   "outputs": [
    {
     "name": "stdout",
     "output_type": "stream",
     "text": [
      "No Frauds 99.81 % of the dataset\n",
      "Frauds 0.19 % of the dataset\n"
     ]
    }
   ],
   "source": [
    "# Splitting the dataset and printing the percentage of Fraudulent and non-Fraudulent transactions for both train and test datasets\n",
    "from sklearn.model_selection import train_test_split\n",
    "import numpy as np\n",
    "\n",
    "print( \"No Frauds\", round(Credit_Card[\"Class\"].value_counts()[0]/len(Credit_Card)*100,2), '% of the dataset')\n",
    "print(\"Frauds\", round(Credit_Card['Class'].value_counts()[1]/len(Credit_Card)*100,2), '% of the dataset')\n",
    "\n",
    "X = Credit_Card.drop('Class', axis=1)\n",
    "y = Credit_Card['Class']\n",
    "\n",
    "X_train, X_test, y_train, y_test = train_test_split(X, y, test_size=0.2, random_state=2)\n",
    "original_Xtrain, original_Xtest, original_ytrain, original_ytest = train_test_split(X, y, test_size=0.2, random_state=2)\n",
    "\n",
    "\n",
    "# Check if the train and test label distribution is similarily distributed\n",
    "train_unique_label, train_counts_label = np.unique(y_train, return_counts=True)\n",
    "test_unique_label, test_counts_label = np.unique(y_test, return_counts=True)\n",
    "\n"
   ]
  },
  {
   "cell_type": "code",
   "execution_count": 42,
   "metadata": {},
   "outputs": [
    {
     "data": {
      "text/plain": [
       "(148532, 39)"
      ]
     },
     "execution_count": 42,
     "metadata": {},
     "output_type": "execute_result"
    }
   ],
   "source": [
    "# Training the data frame\n",
    "train_Credit = X_train.copy()\n",
    "train_Credit['Class'] = y_train\n",
    "train_Credit.shape"
   ]
  },
  {
   "cell_type": "code",
   "execution_count": 43,
   "metadata": {},
   "outputs": [
    {
     "data": {
      "text/plain": [
       "0.0    148251\n",
       "1.0       280\n",
       "Name: Class, dtype: int64"
      ]
     },
     "execution_count": 43,
     "metadata": {},
     "output_type": "execute_result"
    }
   ],
   "source": [
    "# Training the dataframe with class distribution\n",
    "train_Credit['Class'].value_counts()"
   ]
  },
  {
   "cell_type": "code",
   "execution_count": 44,
   "metadata": {},
   "outputs": [
    {
     "name": "stdout",
     "output_type": "stream",
     "text": [
      " Random under-sampling:\n",
      "0.0    280\n",
      "1.0    280\n",
      "Name: Class, dtype: int64\n"
     ]
    },
    {
     "name": "stderr",
     "output_type": "stream",
     "text": [
      "C:\\Users\\olatu\\anaconda3\\lib\\site-packages\\seaborn\\_decorators.py:36: FutureWarning: Pass the following variable as a keyword arg: x. From version 0.12, the only valid positional argument will be `data`, and passing other arguments without an explicit keyword will result in an error or misinterpretation.\n",
      "  warnings.warn(\n"
     ]
    },
    {
     "data": {
      "text/plain": [
       "<AxesSubplot:xlabel='Class', ylabel='count'>"
      ]
     },
     "execution_count": 44,
     "metadata": {},
     "output_type": "execute_result"
    },
    {
     "data": {
      "image/png": "[encoded data removed]",
      "text/plain": [
       "<Figure size 432x288 with 1 Axes>"
      ]
     },
     "metadata": {
      "needs_background": "light"
     },
     "output_type": "display_data"
    }
   ],
   "source": [
    "# Random sampling\n",
    "# Class count\n",
    "count_class_0, count_class_1 = train_Credit.Class.value_counts()\n",
    "\n",
    "# Divide by class\n",
    "train_Credit_0 = train_Credit[train_Credit['Class'] == 0]\n",
    "train_Credit_1 = train_Credit[train_Credit['Class'] == 1]\n",
    "\n",
    "train_Credit_0_under = train_Credit_0.sample(count_class_1)\n",
    "train_Credit_under = pd.concat([train_Credit_0_under, train_Credit_1], axis=0)\n",
    "\n",
    "print(' Random under-sampling:')\n",
    "print(train_Credit_under.Class.value_counts())\n",
    "\n",
    "sns.countplot('Class', data=train_Credit_under)\n"
   ]
  },
  {
   "cell_type": "code",
   "execution_count": 45,
   "metadata": {},
   "outputs": [
    {
     "ename": "NameError",
     "evalue": "name 'plot_2d_space' is not defined",
     "output_type": "error",
     "traceback": [
      "\u001b[1;31m---------------------------------------------------------------------------\u001b[0m",
      "\u001b[1;31mNameError\u001b[0m                                 Traceback (most recent call last)",
      "\u001b[1;32m<ipython-input-45-593ea38c5a03>\u001b[0m in \u001b[0;36m<module>\u001b[1;34m\u001b[0m\n\u001b[0;32m      5\u001b[0m \u001b[0mX\u001b[0m \u001b[1;33m=\u001b[0m \u001b[0mpca\u001b[0m\u001b[1;33m.\u001b[0m\u001b[0mfit_transform\u001b[0m\u001b[1;33m(\u001b[0m\u001b[0mtrain_Credit_under\u001b[0m\u001b[1;33m.\u001b[0m\u001b[0mdrop\u001b[0m\u001b[1;33m(\u001b[0m\u001b[0mcolumns\u001b[0m\u001b[1;33m=\u001b[0m\u001b[1;33m[\u001b[0m\u001b[1;34m\"Class\"\u001b[0m\u001b[1;33m]\u001b[0m\u001b[1;33m)\u001b[0m\u001b[1;33m)\u001b[0m\u001b[1;33m\u001b[0m\u001b[1;33m\u001b[0m\u001b[0m\n\u001b[0;32m      6\u001b[0m \u001b[1;33m\u001b[0m\u001b[0m\n\u001b[1;32m----> 7\u001b[1;33m \u001b[0mplot_2d_space\u001b[0m\u001b[1;33m(\u001b[0m\u001b[0mX\u001b[0m\u001b[1;33m,\u001b[0m \u001b[0mtrain_Credit_under\u001b[0m\u001b[1;33m[\u001b[0m\u001b[1;34m\"Class\"\u001b[0m\u001b[1;33m]\u001b[0m\u001b[1;33m,\u001b[0m \u001b[1;34m'Undersampled dataset (2 PCA components)'\u001b[0m\u001b[1;33m)\u001b[0m\u001b[1;33m\u001b[0m\u001b[1;33m\u001b[0m\u001b[0m\n\u001b[0m",
      "\u001b[1;31mNameError\u001b[0m: name 'plot_2d_space' is not defined"
     ]
    }
   ],
   "source": [
    "# PCA plot for random undersampling\n",
    "from sklearn.decomposition import PCA\n",
    "\n",
    "pca =PCA(n_components=2)\n",
    "X = pca.fit_transform(train_Credit_under.drop(columns=[\"Class\"]))\n",
    "\n",
    "plot_2d_space(X, train_Credit_under[\"Class\"], 'Undersampled dataset (2 PCA components)')"
   ]
  },
  {
   "cell_type": "code",
   "execution_count": 46,
   "metadata": {},
   "outputs": [
    {
     "name": "stdout",
     "output_type": "stream",
     "text": [
      "Random over-sampling:\n",
      "0.0    148251\n",
      "1.0    148251\n",
      "Name: Class, dtype: int64\n"
     ]
    },
    {
     "name": "stderr",
     "output_type": "stream",
     "text": [
      "C:\\Users\\olatu\\anaconda3\\lib\\site-packages\\seaborn\\_decorators.py:36: FutureWarning: Pass the following variable as a keyword arg: x. From version 0.12, the only valid positional argument will be `data`, and passing other arguments without an explicit keyword will result in an error or misinterpretation.\n",
      "  warnings.warn(\n"
     ]
    },
    {
     "data": {
      "text/plain": [
       "<AxesSubplot:xlabel='Class', ylabel='count'>"
      ]
     },
     "execution_count": 46,
     "metadata": {},
     "output_type": "execute_result"
    },
    {
     "data": {
      "image/png": "[encoded data removed]",
      "text/plain": [
       "<Figure size 432x288 with 1 Axes>"
      ]
     },
     "metadata": {
      "needs_background": "light"
     },
     "output_type": "display_data"
    }
   ],
   "source": [
    "# Random over-sampling\n",
    "train_Credit_1_over = train_Credit_1.sample(count_class_0, replace=True)\n",
    "train_Credit_over = pd.concat([train_Credit_0, train_Credit_1_over], axis=0)\n",
    "\n",
    "print('Random over-sampling:')\n",
    "print(train_Credit_over.Class.value_counts())\n",
    "\n",
    "sns.countplot('Class', data=train_Credit_over)"
   ]
  },
  {
   "cell_type": "code",
   "execution_count": null,
   "metadata": {},
   "outputs": [],
   "source": []
  },
  {
   "cell_type": "code",
   "execution_count": null,
   "metadata": {},
   "outputs": [],
   "source": []
  },
  {
   "cell_type": "code",
   "execution_count": null,
   "metadata": {},
   "outputs": [],
   "source": []
  },
  {
   "cell_type": "code",
   "execution_count": null,
   "metadata": {},
   "outputs": [],
   "source": []
  },
  {
   "cell_type": "code",
   "execution_count": 50,
   "metadata": {},
   "outputs": [],
   "source": []
  },
  {
   "cell_type": "code",
   "execution_count": 51,
   "metadata": {},
   "outputs": [],
   "source": []
  },
  {
   "cell_type": "code",
   "execution_count": 52,
   "metadata": {},
   "outputs": [],
   "source": []
  },
  {
   "cell_type": "code",
   "execution_count": 53,
   "metadata": {},
   "outputs": [],
   "source": []
  },
  {
   "cell_type": "code",
   "execution_count": null,
   "metadata": {},
   "outputs": [],
   "source": []
  },
  {
   "cell_type": "code",
   "execution_count": null,
   "metadata": {},
   "outputs": [],
   "source": []
  },
  {
   "cell_type": "code",
   "execution_count": null,
   "metadata": {},
   "outputs": [],
   "source": []
  },
  {
   "cell_type": "code",
   "execution_count": null,
   "metadata": {},
   "outputs": [],
   "source": []
  },
  {
   "cell_type": "code",
   "execution_count": null,
   "metadata": {},
   "outputs": [],
   "source": []
  }
 ],
 "metadata": {
  "kernelspec": {
   "display_name": "Python 3",
   "language": "python",
   "name": "python3"
  },
  "language_info": {
   "codemirror_mode": {
    "name": "ipython",
    "version": 3
   },
   "file_extension": ".py",
   "mimetype": "text/x-python",
   "name": "python",
   "nbconvert_exporter": "python",
   "pygments_lexer": "ipython3",
   "version": "3.8.5"
  }
 },
 "nbformat": 4,
 "nbformat_minor": 4
}
